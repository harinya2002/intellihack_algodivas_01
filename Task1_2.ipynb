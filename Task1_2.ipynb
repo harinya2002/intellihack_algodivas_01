{
  "nbformat": 4,
  "nbformat_minor": 0,
  "metadata": {
    "colab": {
      "provenance": []
    },
    "kernelspec": {
      "name": "python3",
      "display_name": "Python 3"
    },
    "language_info": {
      "name": "python"
    }
  },
  "cells": [
    {
      "cell_type": "markdown",
      "source": [
        "Preprocessing Data"
      ],
      "metadata": {
        "id": "SfUQD5C4vOGD"
      }
    },
    {
      "cell_type": "code",
      "source": [
        "import pandas as pd\n",
        "import matplotlib.pyplot as plt\n",
        "import seaborn as sns\n",
        "\n",
        "# Loading the dataset\n",
        "file_path = \"weather_data.csv\"\n",
        "df = pd.read_csv(file_path)\n",
        "\n",
        "df['date'] = pd.to_datetime(df['date'])\n",
        "\n",
        "num_cols = ['avg_temperature', 'humidity', 'avg_wind_speed', 'cloud_cover']\n",
        "df[num_cols] = df[num_cols].fillna(df[num_cols].mean())\n",
        "\n",
        "df['rain_or_not'] = df['rain_or_not'].str.strip().str.lower().map({'rain': 1, 'no rain': 0})\n",
        "\n",
        "# Normalizing numerical columns\n",
        "from sklearn.preprocessing import MinMaxScaler\n",
        "scaler = MinMaxScaler()\n",
        "df[num_cols] = scaler.fit_transform(df[num_cols])\n",
        "\n",
        "# Saving the preprocessed dataset\n",
        "preprocessed_file = \"preprocessed_weather_data.csv\"\n",
        "df.to_csv(preprocessed_file, index=False)\n",
        "print(f\"Preprocessed dataset saved as {preprocessed_file}\")"
      ],
      "metadata": {
        "id": "qqxyMdZDwMuE"
      },
      "execution_count": null,
      "outputs": []
    }
  ]
}