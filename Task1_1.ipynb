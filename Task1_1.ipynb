{
  "nbformat": 4,
  "nbformat_minor": 0,
  "metadata": {
    "colab": {
      "provenance": []
    },
    "kernelspec": {
      "name": "python3",
      "display_name": "Python 3"
    },
    "language_info": {
      "name": "python"
    }
  },
  "cells": [
    {
      "cell_type": "markdown",
      "source": [
        "1. Preprocess the dataset"
      ],
      "metadata": {
        "id": "kKkWW9z-ovJo"
      }
    },
    {
      "cell_type": "code",
      "source": [
        "import pandas as pd\n",
        "\n",
        "# Loading the dataset\n",
        "file_path = \"weather_data.csv\"\n",
        "df = pd.read_csv(file_path)\n",
        "\n",
        "# Converting the date column to datetime format\n",
        "df['date'] = pd.to_datetime(df['date'])\n",
        "\n",
        "# Filling the missing numerical values with the column mean\n",
        "num_cols = ['avg_temperature', 'humidity', 'avg_wind_speed', 'cloud_cover']\n",
        "df[num_cols] = df[num_cols].fillna(df[num_cols].mean())\n",
        "\n",
        "# Standardizung and converting 'rain_or_not' into binary values(1 = rain, 0 = no rain)\n",
        "df['rain_or_not'] = df['rain_or_not'].str.strip().str.lower().map({'rain': 1, 'no rain': 0})\n",
        "\n",
        "# Saving the cleaned dataset as cleaned_weather_data.csv\n",
        "cleaned_file_path = \"cleaned_weather_data.csv\"\n",
        "df.to_csv(cleaned_file_path, index=False)\n",
        "\n",
        "print(f\"Cleaned dataset saved as {cleaned_file_path}\")\n"
      ],
      "metadata": {
        "id": "dgCvo4C5oxEy"
      },
      "execution_count": null,
      "outputs": []
    }
  ]
}