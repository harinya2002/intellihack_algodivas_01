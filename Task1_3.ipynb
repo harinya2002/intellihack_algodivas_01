{
  "nbformat": 4,
  "nbformat_minor": 0,
  "metadata": {
    "colab": {
      "provenance": []
    },
    "kernelspec": {
      "name": "python3",
      "display_name": "Python 3"
    },
    "language_info": {
      "name": "python"
    }
  },
  "cells": [
    {
      "cell_type": "code",
      "execution_count": null,
      "metadata": {
        "id": "W7QMCow_wad0"
      },
      "outputs": [],
      "source": [
        "# Basic statistics\n",
        "print(df.describe())\n",
        "\n",
        "# Distribution of the numerical features\n",
        "df.hist(figsize=(12, 8), bins=20)\n",
        "plt.show()\n",
        "\n",
        "# Correlation of the heatmap\n",
        "plt.figure(figsize=(8,6))\n",
        "sns.heatmap(df.corr(), annot=True, cmap=\"coolwarm\", fmt=\".2f\")\n",
        "plt.title(\"Feature Correlation Heatmap\")\n",
        "plt.show()\n",
        "\n",
        "# Boxplot: Temperature vs Rain\n",
        "plt.figure(figsize=(6,4))\n",
        "sns.boxplot(x=df['rain_or_not'], y=df['avg_temperature'])\n",
        "plt.xlabel(\"Rain (1 = Yes, 0 = No)\")\n",
        "plt.ylabel(\"Average Temperature (°C)\")\n",
        "plt.title(\"Temperature Distribution by Rain\")\n",
        "plt.show()\n",
        "\n",
        "# Trend of the Rain Over Time\n",
        "plt.figure(figsize=(12,5))\n",
        "sns.lineplot(x=df['date'], y=df['rain_or_not'])\n",
        "plt.title(\"Rainfall Trend Over Time\")\n",
        "plt.xlabel(\"Date\")\n",
        "plt.ylabel(\"Rain (1 = Yes, 0 = No)\")\n",
        "plt.xticks(rotation=45)\n",
        "plt.show()\n"
      ]
    },
    {
      "cell_type": "markdown",
      "source": [
        "                      date  avg_temperature    humidity  avg_wind_speed  \\\n",
        "count                  311       311.000000  311.000000      311.000000   \n",
        "mean   2023-06-05 00:00:00         0.549152    0.417356        0.132360   \n",
        "min    2023-01-01 00:00:00         0.000000    0.000000        0.000000   \n",
        "25%    2023-03-19 12:00:00         0.274669    0.094770        0.064388   \n",
        "50%    2023-06-05 00:00:00         0.549152    0.417356        0.132360   \n",
        "75%    2023-08-21 12:00:00         0.842934    0.699634        0.191415   \n",
        "max    2023-11-07 00:00:00         1.000000    1.000000        1.000000   \n",
        "std                    NaN         0.331793    0.312489        0.092171   \n",
        "\n",
        "       rain_or_not  cloud_cover     pressure  \n",
        "count   311.000000   311.000000   311.000000  \n",
        "mean      0.636656     0.497553  1001.059119  \n",
        "min       0.000000     0.000000   951.240404  \n",
        "25%       0.000000     0.257591   975.757545  \n",
        "50%       1.000000     0.497553  1001.938586  \n",
        "75%       1.000000     0.742017  1026.578884  \n",
        "max       1.000000     1.000000  1049.543752  \n",
        "std       0.481738     0.284374    28.835595"
      ],
      "metadata": {
        "id": "gVgiKZBBxtWt"
      }
    },
    {
      "cell_type": "code",
      "source": [],
      "metadata": {
        "id": "U6xmGsf7xu2b"
      },
      "execution_count": null,
      "outputs": []
    }
  ]
}